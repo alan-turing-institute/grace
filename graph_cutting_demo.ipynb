{
 "cells": [
  {
   "attachments": {},
   "cell_type": "markdown",
   "metadata": {},
   "source": [
    "# interactive graph cutting in napari"
   ]
  },
  {
   "cell_type": "code",
   "execution_count": 6,
   "metadata": {},
   "outputs": [],
   "source": [
    "from grace.utils import ui\n",
    "from grace.datasets import random_graph"
   ]
  },
  {
   "cell_type": "code",
   "execution_count": 7,
   "metadata": {},
   "outputs": [],
   "source": [
    "import napari\n",
    "import numpy as np"
   ]
  },
  {
   "cell_type": "code",
   "execution_count": 8,
   "metadata": {},
   "outputs": [],
   "source": [
    "G = random_graph(scale=1000)"
   ]
  },
  {
   "cell_type": "code",
   "execution_count": 9,
   "metadata": {},
   "outputs": [],
   "source": [
    "points, edges = ui.graph_to_napari_layers(G)"
   ]
  },
  {
   "cell_type": "code",
   "execution_count": 10,
   "metadata": {},
   "outputs": [],
   "source": [
    "viewer = napari.Viewer()\n",
    "viewer.add_shapes(edges, shape_type=\"line\", edge_width=1)\n",
    "gl = viewer.add_shapes(\n",
    "    np.empty((0, 2, 2)), \n",
    "    shape_type=\"line\", \n",
    "    edge_color=\"green\", \n",
    "    edge_width=2, \n",
    "    name=\"good\"\n",
    ")\n",
    "bl = viewer.add_shapes(\n",
    "    np.empty((0, 2, 2)), \n",
    "    shape_type=\"line\", \n",
    "    edge_color=\"red\", \n",
    "    edge_width=2, \n",
    "    name=\"bad\"\n",
    ")\n",
    "viewer.add_points(points)\n",
    "viewer.add_labels(np.zeros((1000, 1000), dtype=np.int32), name=\"mask\")\n",
    "viewer.layers[\"mask\"].brush_size = 20\n",
    "\n",
    "# press `k` after drawing in the `mask` layer to cut the graph\n",
    "@viewer.bind_key(\"k\")\n",
    "def cut(e):\n",
    "    idx, good, bad = ui.cut_graph_using_mask(G, viewer.layers[\"mask\"].data)\n",
    "\n",
    "    good_arr = np.array(\n",
    "        [points[(i, j), :] for i, j in good]\n",
    "    )\n",
    "\n",
    "    bad_arr = np.array(\n",
    "        [points[(i, j), :] for i, j in bad]\n",
    "    )\n",
    "\n",
    "    gl.data = [] \n",
    "    bl.data = []\n",
    "    gl.add_lines(good_arr)\n",
    "    bl.add_lines(bad_arr)\n"
   ]
  },
  {
   "cell_type": "code",
   "execution_count": null,
   "metadata": {},
   "outputs": [],
   "source": []
  },
  {
   "cell_type": "code",
   "execution_count": null,
   "metadata": {},
   "outputs": [],
   "source": []
  }
 ],
 "metadata": {
  "kernelspec": {
   "display_name": "napari",
   "language": "python",
   "name": "python3"
  },
  "language_info": {
   "codemirror_mode": {
    "name": "ipython",
    "version": 3
   },
   "file_extension": ".py",
   "mimetype": "text/x-python",
   "name": "python",
   "nbconvert_exporter": "python",
   "pygments_lexer": "ipython3",
   "version": "3.9.9"
  },
  "orig_nbformat": 4,
  "vscode": {
   "interpreter": {
    "hash": "4837db0ae102e7e97a192b176e43e68e2af55ac0fc2fba8f0d17ca28b0f9b18e"
   }
  }
 },
 "nbformat": 4,
 "nbformat_minor": 2
}
