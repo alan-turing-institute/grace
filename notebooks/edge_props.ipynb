{
 "cells": [
  {
   "cell_type": "code",
   "execution_count": 1,
   "metadata": {},
   "outputs": [
    {
     "name": "stderr",
     "output_type": "stream",
     "text": [
      "/Users/kulicna/anaconda3/envs/grace-environment/lib/python3.10/site-packages/tqdm/auto.py:21: TqdmWarning: IProgress not found. Please update jupyter and ipywidgets. See https://ipywidgets.readthedocs.io/en/stable/user_install.html\n",
      "  from .autonotebook import tqdm as notebook_tqdm\n",
      "/Users/kulicna/anaconda3/envs/grace-environment/lib/python3.10/site-packages/torchvision/io/image.py:13: UserWarning: Failed to load image Python extension: 'dlopen(/Users/kulicna/anaconda3/envs/grace-environment/lib/python3.10/site-packages/torchvision/image.so, 0x0006): Symbol not found: __ZN3c106detail19maybe_wrap_dim_slowIxEET_S2_S2_b\n",
      "  Referenced from: <6A7076EE-85BD-37A7-BC35-1D4867F2B3D3> /Users/kulicna/anaconda3/envs/grace-environment/lib/python3.10/site-packages/torchvision/image.so\n",
      "  Expected in:     <F2FE5CF8-5B5B-3FAD-ADF8-C77D90F49FC9> /Users/kulicna/anaconda3/envs/grace-environment/lib/python3.10/site-packages/torch/lib/libc10.dylib'If you don't plan on using image functionality from `torchvision.io`, you can ignore this warning. Otherwise, there might be something wrong with your environment. Did you have `libjpeg` or `libpng` installed before building `torchvision` from source?\n",
      "  warn(\n"
     ]
    }
   ],
   "source": [
    "import networkx as nx\n",
    "import matplotlib.pyplot as plt\n",
    "\n",
    "from grace.base import GraphAttrs\n",
    "from grace.io.image_dataset import ImageGraphDataset\n",
    "\n",
    "from grace.io.store_node_features import store_node_features_in_graph\n",
    "from grace.io.store_edge_properties import store_edge_properties_in_graph\n"
   ]
  },
  {
   "cell_type": "code",
   "execution_count": 2,
   "metadata": {},
   "outputs": [
    {
     "data": {
      "text/plain": [
       "('/Users/kulicna/Desktop/dataset/playground/infer/',\n",
       " '/Users/kulicna/Desktop/classifier/extractor/resnet152.pt')"
      ]
     },
     "execution_count": 2,
     "metadata": {},
     "output_type": "execute_result"
    }
   ],
   "source": [
    "extractor_fn = \"/Users/kulicna/Desktop/classifier/extractor/resnet152.pt\"\n",
    "data_path = \"/Users/kulicna/Desktop/dataset/playground/infer/\"\n",
    "data_path, extractor_fn"
   ]
  },
  {
   "cell_type": "code",
   "execution_count": 3,
   "metadata": {},
   "outputs": [
    {
     "name": "stderr",
     "output_type": "stream",
     "text": [
      "10/05/2023 07:51:38 PM MRC_Synthetic_File_002\n",
      "10/05/2023 07:51:38 PM Nodes count | [97, 102, 0] x | [48.74, 51.26, 0.0] %\n",
      "10/05/2023 07:51:38 PM Edges count | [452, 127, 0] x | [78.07, 21.93, 0.0] %\n",
      "10/05/2023 07:51:38 PM Relabelled 'Annotation.UNKNOWN'\n",
      "10/05/2023 07:51:38 PM Nodes count | [97, 102, 0] x | [48.74, 51.26, 0.0] %\n",
      "10/05/2023 07:51:38 PM Edges count | [452, 127, 0] x | [78.07, 21.93, 0.0] %\n",
      "/Users/kulicna/anaconda3/envs/grace-environment/lib/python3.10/site-packages/torchvision/transforms/functional.py:1603: UserWarning: The default value of the antialias parameter of all the resizing transforms (Resize(), RandomResizedCrop(), etc.) will change from None to True in v0.17, in order to be consistent across the PIL and Tensor backends. To suppress this warning, directly pass antialias=True (recommended, future default), antialias=None (current default, which means False for Tensors and True for PIL), or antialias=False (only works on Tensors - PIL will still use antialiasing). This also applies if you are using the inference transforms from the models weights: update the call to weights.transforms(antialias=True).\n",
      "  warnings.warn(\n",
      "[W NNPACK.cpp:53] Could not initialize NNPACK! Reason: Unsupported hardware.\n",
      "10/05/2023 07:52:16 PM MRC_Synthetic_File_004\n",
      "10/05/2023 07:52:16 PM Nodes count | [97, 109, 0] x | [47.09, 52.91, 0.0] %\n",
      "10/05/2023 07:52:16 PM Edges count | [482, 120, 0] x | [80.07, 19.93, 0.0] %\n",
      "10/05/2023 07:52:16 PM Relabelled 'Annotation.UNKNOWN'\n",
      "10/05/2023 07:52:16 PM Nodes count | [97, 109, 0] x | [47.09, 52.91, 0.0] %\n",
      "10/05/2023 07:52:16 PM Edges count | [482, 120, 0] x | [80.07, 19.93, 0.0] %\n",
      "/Users/kulicna/anaconda3/envs/grace-environment/lib/python3.10/site-packages/torchvision/transforms/functional.py:1603: UserWarning: The default value of the antialias parameter of all the resizing transforms (Resize(), RandomResizedCrop(), etc.) will change from None to True in v0.17, in order to be consistent across the PIL and Tensor backends. To suppress this warning, directly pass antialias=True (recommended, future default), antialias=None (current default, which means False for Tensors and True for PIL), or antialias=False (only works on Tensors - PIL will still use antialiasing). This also applies if you are using the inference transforms from the models weights: update the call to weights.transforms(antialias=True).\n",
      "  warnings.warn(\n"
     ]
    }
   ],
   "source": [
    "store_node_features_in_graph(data_path, extractor_fn)"
   ]
  },
  {
   "cell_type": "code",
   "execution_count": 4,
   "metadata": {},
   "outputs": [
    {
     "name": "stderr",
     "output_type": "stream",
     "text": [
      "10/05/2023 07:52:57 PM MRC_Synthetic_File_002\n",
      "10/05/2023 07:52:57 PM Nodes count | [97, 102, 0] x | [48.74, 51.26, 0.0] %\n",
      "10/05/2023 07:52:57 PM Edges count | [452, 127, 0] x | [78.07, 21.93, 0.0] %\n",
      "10/05/2023 07:52:57 PM Relabelled 'Annotation.UNKNOWN'\n",
      "10/05/2023 07:52:57 PM Nodes count | [97, 102, 0] x | [48.74, 51.26, 0.0] %\n",
      "10/05/2023 07:52:57 PM Edges count | [452, 127, 0] x | [78.07, 21.93, 0.0] %\n",
      "10/05/2023 07:52:57 PM MRC_Synthetic_File_004\n",
      "10/05/2023 07:52:57 PM Nodes count | [97, 109, 0] x | [47.09, 52.91, 0.0] %\n",
      "10/05/2023 07:52:57 PM Edges count | [482, 120, 0] x | [80.07, 19.93, 0.0] %\n",
      "10/05/2023 07:52:57 PM Relabelled 'Annotation.UNKNOWN'\n",
      "10/05/2023 07:52:57 PM Nodes count | [97, 109, 0] x | [47.09, 52.91, 0.0] %\n",
      "10/05/2023 07:52:57 PM Edges count | [482, 120, 0] x | [80.07, 19.93, 0.0] %\n"
     ]
    }
   ],
   "source": [
    "store_edge_properties_in_graph(data_path=data_path)"
   ]
  },
  {
   "cell_type": "markdown",
   "metadata": {},
   "source": [
    "# Unwrap the graph:"
   ]
  },
  {
   "cell_type": "code",
   "execution_count": 5,
   "metadata": {},
   "outputs": [
    {
     "name": "stderr",
     "output_type": "stream",
     "text": [
      "10/05/2023 07:53:24 PM MRC_Synthetic_File_002\n",
      "10/05/2023 07:53:24 PM Nodes count | [97, 102, 0] x | [48.74, 51.26, 0.0] %\n",
      "10/05/2023 07:53:24 PM Edges count | [452, 127, 0] x | [78.07, 21.93, 0.0] %\n",
      "10/05/2023 07:53:24 PM Relabelled 'Annotation.UNKNOWN'\n",
      "10/05/2023 07:53:24 PM Nodes count | [97, 102, 0] x | [48.74, 51.26, 0.0] %\n",
      "10/05/2023 07:53:24 PM Edges count | [452, 127, 0] x | [78.07, 21.93, 0.0] %\n"
     ]
    },
    {
     "data": {
      "text/plain": [
       "(199, 579)"
      ]
     },
     "execution_count": 5,
     "metadata": {},
     "output_type": "execute_result"
    }
   ],
   "source": [
    "dataset = ImageGraphDataset(\n",
    "    image_dir=data_path, \n",
    "    grace_dir=data_path, \n",
    ")\n",
    "image, target = dataset[0]\n",
    "G = target[\"graph\"]\n",
    "G.number_of_nodes(), G.number_of_edges()"
   ]
  },
  {
   "cell_type": "code",
   "execution_count": 6,
   "metadata": {},
   "outputs": [
    {
     "name": "stdout",
     "output_type": "stream",
     "text": [
      "0 9 {<GraphAttrs.EDGE_GROUND_TRUTH: 'edge_ground_truth'>: <Annotation.TRUE_NEGATIVE: 0>, <GraphAttrs.EDGE_PROPERTIES: 'edge_properties'>: Properties(properties_dict={'src_pos_x_raw': 3539.7954, 'src_pos_y_raw': 203.28735, 'dst_pos_x_raw': 2021.5538, 'dst_pos_y_raw': 150.96632, 'mid_pos_x_raw': 2780.6746, 'mid_pos_y_raw': 177.12683, 'edge_length_raw': 1519.1428, 'edge_orientation_radians': 1.5071831, 'edge_orientation_degrees': 86.355225, 'east_pos_x_raw': 2439.3552, 'east_pos_y_raw': 291.55084, 'east_to_mid_length_raw': 359.9886, 'east_to_mid_orient_raw': 1.481252, 'east_triangle_area_raw': 95790.734, 'west_pos_x_raw': 2780.6746, 'west_pos_y_raw': 177.12683, 'west_to_mid_length_raw': 0.0, 'west_to_mid_orient_raw': 0.0, 'west_triangle_area_raw': 0.0, 'edge_length_nrm': 5.2260695, 'west_to_mid_length_nrm': 0.0, 'east_to_mid_length_nrm': 1.2384124, 'west_triangle_area_nrm': 0.0, 'east_triangle_area_nrm': 3.4430425}, properties_keys=None, properties_vals=None)}\n",
      "Properties(properties_dict={'src_pos_x_raw': 3539.7954, 'src_pos_y_raw': 203.28735, 'dst_pos_x_raw': 2021.5538, 'dst_pos_y_raw': 150.96632, 'mid_pos_x_raw': 2780.6746, 'mid_pos_y_raw': 177.12683, 'edge_length_raw': 1519.1428, 'edge_orientation_radians': 1.5071831, 'edge_orientation_degrees': 86.355225, 'east_pos_x_raw': 2439.3552, 'east_pos_y_raw': 291.55084, 'east_to_mid_length_raw': 359.9886, 'east_to_mid_orient_raw': 1.481252, 'east_triangle_area_raw': 95790.734, 'west_pos_x_raw': 2780.6746, 'west_pos_y_raw': 177.12683, 'west_to_mid_length_raw': 0.0, 'west_to_mid_orient_raw': 0.0, 'west_triangle_area_raw': 0.0, 'edge_length_nrm': 5.2260695, 'west_to_mid_length_nrm': 0.0, 'east_to_mid_length_nrm': 1.2384124, 'west_triangle_area_nrm': 0.0, 'east_triangle_area_nrm': 3.4430425}, properties_keys=None, properties_vals=None)\n"
     ]
    }
   ],
   "source": [
    "for src, dst, edge in G.edges(data=True):\n",
    "    print (src, dst, edge)\n",
    "    print (edge[GraphAttrs.EDGE_PROPERTIES])\n",
    "    break\n"
   ]
  },
  {
   "cell_type": "code",
   "execution_count": null,
   "metadata": {},
   "outputs": [],
   "source": [
    "uniqueness = set([len(edge[GraphAttrs.EDGE_PROPERTIES].property_keys) for _, _, edge in G.edges(data=True)])\n",
    "uniqueness"
   ]
  },
  {
   "cell_type": "code",
   "execution_count": null,
   "metadata": {},
   "outputs": [],
   "source": [
    "lens = []\n",
    "\n",
    "for image, target in dataset:\n",
    "    G = target[\"graph\"]\n",
    "\n",
    "    l = [e[GraphAttrs.EDGE_PROPERTIES].properties_dict[2] for _, _, e in G.edges(data=True)]\n",
    "    lens.extend(l)"
   ]
  },
  {
   "cell_type": "code",
   "execution_count": null,
   "metadata": {},
   "outputs": [],
   "source": []
  },
  {
   "cell_type": "code",
   "execution_count": null,
   "metadata": {},
   "outputs": [],
   "source": [
    "plt.hist(lens, bins=100)"
   ]
  },
  {
   "cell_type": "code",
   "execution_count": null,
   "metadata": {},
   "outputs": [],
   "source": []
  },
  {
   "cell_type": "code",
   "execution_count": null,
   "metadata": {},
   "outputs": [],
   "source": []
  }
 ],
 "metadata": {
  "kernelspec": {
   "display_name": "grace-environment",
   "language": "python",
   "name": "python3"
  },
  "language_info": {
   "codemirror_mode": {
    "name": "ipython",
    "version": 3
   },
   "file_extension": ".py",
   "mimetype": "text/x-python",
   "name": "python",
   "nbconvert_exporter": "python",
   "pygments_lexer": "ipython3",
   "version": "3.10.11"
  },
  "orig_nbformat": 4
 },
 "nbformat": 4,
 "nbformat_minor": 2
}
