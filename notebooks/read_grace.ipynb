{
 "cells": [
  {
   "cell_type": "markdown",
   "metadata": {},
   "source": [
    "# Visualise GRACE data:"
   ]
  },
  {
   "cell_type": "code",
   "execution_count": null,
   "metadata": {},
   "outputs": [],
   "source": [
    "import matplotlib.pyplot as plt\n",
    "import torch\n",
    "\n",
    "from grace.models.datasets import dataset_from_graph\n",
    "from grace.models.feature_extractor import FeatureExtractor\n",
    "\n",
    "from grace.io.image_dataset import ImageGraphDataset\n",
    "from grace.evaluation.process import generate_ground_truth_graph\n",
    "from grace.visualisation.subgraph import (\n",
    "    plot_subgraph_geometry, \n",
    "    plot_local_node_geometry\n",
    ")\n",
    "from grace.visualisation.plotting import (\n",
    "    display_image_and_grace_annotation, \n",
    "    read_patch_stack_by_label, \n",
    "    montage_from_image_patches, \n",
    "    overlay_from_image_patches,\n",
    "    plot_simple_graph,\n",
    "    plot_connected_components\n",
    ")"
   ]
  },
  {
   "cell_type": "markdown",
   "metadata": {},
   "source": [
    "### Visualise the overlay of annotated graph on image annotation mask:"
   ]
  },
  {
   "cell_type": "code",
   "execution_count": null,
   "metadata": {},
   "outputs": [],
   "source": [
    "bbox_size = (224, 224)\n",
    "extractor_filename = \"/Users/kulicna/Desktop/classifier/extractor/resnet152.pt\"\n",
    "pre_trained_resnet = torch.load(extractor_filename)\n",
    "feature_extractor = FeatureExtractor(model=pre_trained_resnet, bbox_size=bbox_size)\n"
   ]
  },
  {
   "cell_type": "code",
   "execution_count": null,
   "metadata": {},
   "outputs": [],
   "source": [
    "grace_path = \"/Users/kulicna/Desktop/dataset/shape_stars/infer\"\n",
    "dataset = ImageGraphDataset(\n",
    "    image_dir=grace_path, \n",
    "    grace_dir=grace_path, \n",
    "    transform=feature_extractor,\n",
    ")\n",
    "image, graph_data = dataset[0]\n",
    "graph = graph_data[\"graph\"]\n",
    "graph.number_of_nodes(), graph.number_of_edges()\n"
   ]
  },
  {
   "cell_type": "markdown",
   "metadata": {},
   "source": [
    "### Generate ground truth graph:"
   ]
  },
  {
   "cell_type": "code",
   "execution_count": null,
   "metadata": {},
   "outputs": [],
   "source": [
    "gt_graph = generate_ground_truth_graph(graph)\n",
    "gt_graph.number_of_nodes(), gt_graph.number_of_edges()\n"
   ]
  },
  {
   "cell_type": "markdown",
   "metadata": {},
   "source": [
    "### Display the annotation:"
   ]
  },
  {
   "cell_type": "code",
   "execution_count": null,
   "metadata": {},
   "outputs": [],
   "source": [
    "display_image_and_grace_annotation(image=image, target=graph_data)"
   ]
  },
  {
   "cell_type": "markdown",
   "metadata": {},
   "source": [
    "### Visualise the crops montages & overlay:"
   ]
  },
  {
   "cell_type": "code",
   "execution_count": null,
   "metadata": {},
   "outputs": [],
   "source": [
    "crops = read_patch_stack_by_label(G=graph_data[\"graph\"], image=image, crop_shape=bbox_size)\n",
    "[len(c) for c in crops]"
   ]
  },
  {
   "cell_type": "code",
   "execution_count": null,
   "metadata": {},
   "outputs": [],
   "source": [
    "montage_from_image_patches(crops)"
   ]
  },
  {
   "cell_type": "code",
   "execution_count": null,
   "metadata": {},
   "outputs": [],
   "source": [
    "overlay_from_image_patches(crops)"
   ]
  },
  {
   "cell_type": "markdown",
   "metadata": {},
   "source": [
    "### Draw the plain graphs:"
   ]
  },
  {
   "cell_type": "code",
   "execution_count": null,
   "metadata": {},
   "outputs": [],
   "source": [
    "shape = 5\n",
    "_, axes = plt.subplots(1, 3, figsize=(shape*3, shape*1))\n",
    "\n",
    "plot_simple_graph(graph, title=f\"Simple Random Graph\", ax=axes[0])\n",
    "plot_simple_graph(gt_graph, title=f\"Simple Ground Truth Graph\", ax=axes[1])\n",
    "plot_connected_components(gt_graph, title=f\"Individual Connected Components\", ax=axes[2])\n",
    "\n",
    "plt.tight_layout()\n",
    "plt.show()\n"
   ]
  },
  {
   "cell_type": "markdown",
   "metadata": {},
   "source": [
    "### Visualise few subgraphs:"
   ]
  },
  {
   "cell_type": "code",
   "execution_count": null,
   "metadata": {},
   "outputs": [],
   "source": [
    "dataset = dataset_from_graph(graph, mode='sub', in_train_mode=True)\n",
    "len(dataset), type(dataset[0])"
   ]
  },
  {
   "cell_type": "code",
   "execution_count": null,
   "metadata": {},
   "outputs": [],
   "source": [
    "ncols = 3\n",
    "_, axes = plt.subplots(nrows=1, ncols=ncols, figsize=(18, 5))\n",
    "    \n",
    "for sub in range(ncols):\n",
    "    sub_graph = dataset[(sub+ncols)*10]\n",
    "    plot_subgraph_geometry(sub_graph, title=f\"Node index = {sub*40}\", ax=axes[sub])\n",
    "    "
   ]
  },
  {
   "cell_type": "code",
   "execution_count": null,
   "metadata": {},
   "outputs": [],
   "source": [
    "ncols = 3\n",
    "_, axes = plt.subplots(nrows=1, ncols=ncols, figsize=(18, 5))\n",
    "    \n",
    "for sub in range(ncols):\n",
    "    node_idx = sub*ncols*5\n",
    "    plot_local_node_geometry(graph, node_idx=node_idx, title=f\"Node index = {sub*ncols*5}\", ax=axes[sub])\n",
    "    "
   ]
  },
  {
   "cell_type": "markdown",
   "metadata": {},
   "source": [
    "##### Done!"
   ]
  }
 ],
 "metadata": {
  "kernelspec": {
   "display_name": "pytorch",
   "language": "python",
   "name": "python3"
  },
  "language_info": {
   "codemirror_mode": {
    "name": "ipython",
    "version": 3
   },
   "file_extension": ".py",
   "mimetype": "text/x-python",
   "name": "python",
   "nbconvert_exporter": "python",
   "pygments_lexer": "ipython3",
   "version": "3.10.11"
  },
  "orig_nbformat": 4
 },
 "nbformat": 4,
 "nbformat_minor": 2
}
