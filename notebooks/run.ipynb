{
 "cells": [
  {
   "cell_type": "code",
   "execution_count": null,
   "metadata": {},
   "outputs": [],
   "source": [
    "import json\n",
    "import torch\n",
    "\n",
    "from grace.run import run_grace\n",
    "from grace.config import Config\n",
    "from grace.models.feature_extractor import resnet"
   ]
  },
  {
   "cell_type": "code",
   "execution_count": null,
   "metadata": {},
   "outputs": [],
   "source": [
    "LOG_DIR = \"/Users/csoelistyo/Documents/grace_files/run_data\"\n",
    "IMAGE_DIR = \"/Users/csoelistyo/Documents/grace_files/run_data/image_files\"\n",
    "GRACE_DIR = \"/Users/csoelistyo/Documents/grace_files/run_data/grace_files\"\n",
    "CONFIG_FILE = \"/Users/csoelistyo/Documents/grace_files/run_data/run_config.json\""
   ]
  },
  {
   "attachments": {},
   "cell_type": "markdown",
   "metadata": {},
   "source": [
    "#### If no extractor model file exists yet"
   ]
  },
  {
   "cell_type": "code",
   "execution_count": null,
   "metadata": {},
   "outputs": [],
   "source": [
    "EXTRACTOR_FN = '/Users/csoelistyo/Documents/grace_files/run_data/extractor.pt'\n",
    "extractor = resnet()\n",
    "torch.save(extractor, EXTRACTOR_FN)"
   ]
  },
  {
   "attachments": {},
   "cell_type": "markdown",
   "metadata": {},
   "source": [
    "#### If no config file exists yet"
   ]
  },
  {
   "cell_type": "code",
   "execution_count": null,
   "metadata": {},
   "outputs": [],
   "source": [
    "config = Config(\n",
    "    image_dir=IMAGE_DIR,\n",
    "    grace_dir=GRACE_DIR,\n",
    "    log_dir=LOG_DIR,\n",
    ")\n",
    "json.dump(config.__dict__, open(CONFIG_FILE, 'w'))"
   ]
  },
  {
   "cell_type": "markdown",
   "metadata": {},
   "source": []
  },
  {
   "cell_type": "markdown",
   "metadata": {},
   "source": [
    "#### Run"
   ]
  },
  {
   "cell_type": "code",
   "execution_count": null,
   "metadata": {},
   "outputs": [],
   "source": [
    "run_grace(CONFIG_FILE)"
   ]
  }
 ],
 "metadata": {
  "kernelspec": {
   "display_name": "grace_2",
   "language": "python",
   "name": "python3"
  },
  "language_info": {
   "codemirror_mode": {
    "name": "ipython",
    "version": 3
   },
   "file_extension": ".py",
   "mimetype": "text/x-python",
   "name": "python",
   "nbconvert_exporter": "python",
   "pygments_lexer": "ipython3",
   "version": "3.10.11"
  },
  "orig_nbformat": 4
 },
 "nbformat": 4,
 "nbformat_minor": 2
}
