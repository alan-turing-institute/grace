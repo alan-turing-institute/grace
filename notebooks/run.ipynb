{
 "cells": [
  {
   "cell_type": "code",
   "execution_count": null,
   "metadata": {},
   "outputs": [],
   "source": [
    "import json\n",
    "import torch\n",
    "\n",
    "from grace.run import run_grace\n",
    "from grace.config import Config\n",
    "from grace.models.feature_extractor import resnet"
   ]
  },
  {
   "cell_type": "code",
   "execution_count": null,
   "metadata": {},
   "outputs": [],
   "source": [
    "LOG_DIR = \"/Users/csoelistyo/Documents/grace_files/run_data\"\n",
    "IMAGE_DIR = \"/Users/csoelistyo/Documents/grace_files/run_data/image_files\"\n",
    "GRACE_DIR = \"/Users/csoelistyo/Documents/grace_files/run_data/grace_files\"\n",
    "CONFIG_FILE = \"/Users/csoelistyo/Documents/grace_files/run_data/run_config.json\""
   ]
  },
  {
   "attachments": {},
   "cell_type": "markdown",
   "metadata": {},
   "source": [
    "#### If no extractor model file exists yet"
   ]
  },
  {
   "cell_type": "code",
   "execution_count": null,
   "metadata": {},
   "outputs": [],
   "source": [
    "EXTRACTOR_FN = '/Users/csoelistyo/Documents/grace_files/run_data/extractor.pt'\n",
    "extractor = resnet()\n",
    "torch.save(extractor, EXTRACTOR_FN)"
   ]
  },
  {
   "attachments": {},
   "cell_type": "markdown",
   "metadata": {},
   "source": [
    "#### If no config file exists yet"
   ]
  },
  {
   "cell_type": "code",
   "execution_count": null,
   "metadata": {},
   "outputs": [],
   "source": [
    "config = Config(\n",
    "    image_dir=IMAGE_DIR,\n",
    "    grace_dir=GRACE_DIR,\n",
    "    log_dir=LOG_DIR,\n",
    ")\n",
    "json.dump(config.__dict__, open(CONFIG_FILE, 'w'))"
   ]
  },
  {
   "cell_type": "markdown",
   "metadata": {},
   "source": []
  },
  {
   "cell_type": "markdown",
   "metadata": {},
   "source": [
    "#### Run"
   ]
  },
  {
   "cell_type": "code",
   "execution_count": null,
   "metadata": {},
   "outputs": [],
   "source": [
    "run_grace(CONFIG_FILE)"
   ]
  },
  {
   "cell_type": "code",
   "execution_count": 1,
   "metadata": {},
   "outputs": [],
   "source": [
    "FN = '/Users/csoelistyo/Documents/grace_files/image_2/MRC_Synthetic_File_006.grace/annotation.npz'"
   ]
  },
  {
   "cell_type": "code",
   "execution_count": 3,
   "metadata": {},
   "outputs": [],
   "source": [
    "import numpy as np\n",
    "j = np.load(FN)"
   ]
  },
  {
   "cell_type": "code",
   "execution_count": 8,
   "metadata": {},
   "outputs": [],
   "source": [
    "FN = '/Users/csoelistyo/Documents/grace_files/image_dir_test/FoilHole_24680421_Data_24671727_24671728_20181024_2216-78563_noDW.mrc'"
   ]
  },
  {
   "cell_type": "code",
   "execution_count": 10,
   "metadata": {},
   "outputs": [
    {
     "name": "stdout",
     "output_type": "stream",
     "text": [
      "float32\n"
     ]
    }
   ],
   "source": [
    "import mrcfile\n",
    "\n",
    "with mrcfile.open(FN, 'r') as mrc:\n",
    "    print(mrc.data.dtype)"
   ]
  },
  {
   "cell_type": "code",
   "execution_count": 11,
   "metadata": {},
   "outputs": [],
   "source": [
    "image = np.zeros((5,5,), dtype='uint16')"
   ]
  },
  {
   "cell_type": "code",
   "execution_count": 20,
   "metadata": {},
   "outputs": [
    {
     "ename": "TypeError",
     "evalue": "can't convert np.ndarray of type numpy.uint16. The only supported types are: float64, float32, float16, complex64, complex128, int64, int32, int16, int8, uint8, and bool.",
     "output_type": "error",
     "traceback": [
      "\u001b[0;31m---------------------------------------------------------------------------\u001b[0m",
      "\u001b[0;31mTypeError\u001b[0m                                 Traceback (most recent call last)",
      "Cell \u001b[0;32mIn[20], line 3\u001b[0m\n\u001b[1;32m      1\u001b[0m \u001b[39mimport\u001b[39;00m \u001b[39mtorch\u001b[39;00m\n\u001b[0;32m----> 3\u001b[0m j \u001b[39m=\u001b[39m torch\u001b[39m.\u001b[39;49mtensor(image, dtype\u001b[39m=\u001b[39;49mtorch\u001b[39m.\u001b[39;49mfloat32)\n",
      "\u001b[0;31mTypeError\u001b[0m: can't convert np.ndarray of type numpy.uint16. The only supported types are: float64, float32, float16, complex64, complex128, int64, int32, int16, int8, uint8, and bool."
     ]
    }
   ],
   "source": [
    "import torch\n",
    "\n",
    "j = torch.tensor(image, dtype=torch.float32)"
   ]
  },
  {
   "cell_type": "code",
   "execution_count": 21,
   "metadata": {},
   "outputs": [],
   "source": [
    "from grace.models.classifier import GCN"
   ]
  },
  {
   "cell_type": "code",
   "execution_count": 25,
   "metadata": {},
   "outputs": [],
   "source": [
    "gcn = GCN(\n",
    "    input_channels=8,\n",
    "    hidden_channels=[3, 3]\n",
    ")"
   ]
  },
  {
   "cell_type": "code",
   "execution_count": 26,
   "metadata": {},
   "outputs": [
    {
     "data": {
      "text/plain": [
       "[Parameter containing:\n",
       " tensor([[-0.2331,  0.3558,  0.0896],\n",
       "         [ 0.3665,  0.4889, -0.1503]], requires_grad=True),\n",
       " Parameter containing:\n",
       " tensor([0.2253, 0.4507], requires_grad=True),\n",
       " Parameter containing:\n",
       " tensor([[ 0.1918,  0.0325,  0.3936,  0.3663,  0.1028, -0.3732],\n",
       "         [ 0.2774,  0.2829, -0.4006,  0.1727, -0.1301, -0.1262]],\n",
       "        requires_grad=True),\n",
       " Parameter containing:\n",
       " tensor([-0.3034, -0.3822], requires_grad=True)]"
      ]
     },
     "execution_count": 26,
     "metadata": {},
     "output_type": "execute_result"
    }
   ],
   "source": [
    "list(gcn.parameters())"
   ]
  },
  {
   "cell_type": "code",
   "execution_count": null,
   "metadata": {},
   "outputs": [],
   "source": [
    "x = np.random.uniform()"
   ]
  }
 ],
 "metadata": {
  "kernelspec": {
   "display_name": "grace_2",
   "language": "python",
   "name": "python3"
  },
  "language_info": {
   "codemirror_mode": {
    "name": "ipython",
    "version": 3
   },
   "file_extension": ".py",
   "mimetype": "text/x-python",
   "name": "python",
   "nbconvert_exporter": "python",
   "pygments_lexer": "ipython3",
   "version": "3.10.11"
  },
  "orig_nbformat": 4
 },
 "nbformat": 4,
 "nbformat_minor": 2
}
