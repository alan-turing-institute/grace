{
 "cells": [
  {
   "cell_type": "markdown",
   "metadata": {},
   "source": [
    "# Run inference on pre-trained model:"
   ]
  },
  {
   "cell_type": "code",
   "execution_count": null,
   "metadata": {},
   "outputs": [],
   "source": [
    "import matplotlib.pyplot as plt\n",
    "import torch"
   ]
  },
  {
   "cell_type": "code",
   "execution_count": null,
   "metadata": {},
   "outputs": [],
   "source": [
    "from grace.styling import COLORMAPS\n",
    "from grace.io.image_dataset import ImageGraphDataset\n",
    "from grace.models.feature_extractor import FeatureExtractor\n",
    "\n",
    "from grace.evaluation.inference import GraphLabelPredictor\n",
    "from grace.visualisation.manifold import TSNEManifoldProjection\n",
    "from grace.visualisation.plotting import (\n",
    "    plot_simple_graph,\n",
    "    read_patch_stack_by_label, \n",
    "    montage_from_image_patches,\n",
    "    overlay_from_image_patches,\n",
    ")"
   ]
  },
  {
   "cell_type": "markdown",
   "metadata": {},
   "source": [
    "### Read some real grace-annotated data:"
   ]
  },
  {
   "cell_type": "code",
   "execution_count": null,
   "metadata": {},
   "outputs": [],
   "source": [
    "bbox_size = (224, 224)\n",
    "extractor_filename = \"/Users/kulicna/Desktop/classifier/extractor/resnet152.pt\"\n",
    "pre_trained_resnet = torch.load(extractor_filename)\n",
    "feature_extractor = FeatureExtractor(model=pre_trained_resnet, bbox_size=bbox_size)\n"
   ]
  },
  {
   "cell_type": "code",
   "execution_count": null,
   "metadata": {},
   "outputs": [],
   "source": [
    "grace_path = \"/Users/kulicna/Desktop/dataset/shape_stars/infer\"\n",
    "\n",
    "dataset = ImageGraphDataset(\n",
    "    image_dir=grace_path, \n",
    "    grace_dir=grace_path, \n",
    "    transform=feature_extractor,\n",
    "    keep_node_unknown_labels=True, \n",
    "    keep_edge_unknown_labels=True, \n",
    ")"
   ]
  },
  {
   "cell_type": "code",
   "execution_count": null,
   "metadata": {},
   "outputs": [],
   "source": [
    "image, graph_data = dataset[0]\n",
    "\n",
    "G = graph_data[\"graph\"]\n",
    "image = image.numpy()\n",
    "annot = graph_data[\"annotation\"]\n",
    "G.number_of_nodes(), G.number_of_edges(), annot.shape, image.shape "
   ]
  },
  {
   "cell_type": "markdown",
   "metadata": {},
   "source": [
    "### Visualise the data:"
   ]
  },
  {
   "cell_type": "code",
   "execution_count": null,
   "metadata": {},
   "outputs": [],
   "source": [
    "shape = 5\n",
    "_, axes = plt.subplots(nrows=1, ncols=3, figsize=(shape*3, shape*1))\n",
    "\n",
    "plot_simple_graph(G, title=f\"Graph with {G.number_of_nodes()} nodes & {G.number_of_edges()} edges\", ax=axes[0])\n",
    "axes[0].imshow(image, cmap=COLORMAPS[\"mask\"])\n",
    "axes[1].imshow(annot, cmap=COLORMAPS[\"mask\"])\n",
    "axes[2].imshow(image, cmap=COLORMAPS[\"mask\"])\n",
    "\n",
    "plt.tight_layout()\n",
    "plt.show()"
   ]
  },
  {
   "cell_type": "code",
   "execution_count": null,
   "metadata": {},
   "outputs": [],
   "source": [
    "crops = read_patch_stack_by_label(G, image=image, crop_shape=bbox_size)\n",
    "montage_from_image_patches(crops)\n",
    "overlay_from_image_patches(crops)"
   ]
  },
  {
   "cell_type": "markdown",
   "metadata": {},
   "source": [
    "### Nominate a pre-trained GCN model:"
   ]
  },
  {
   "cell_type": "code",
   "execution_count": null,
   "metadata": {},
   "outputs": [],
   "source": [
    "# classifier_filename = \"/Users/kulicna/Desktop/classifier/runs/2023-09-08_15-11-58/classifier.pt\"  # poor GCN + Linear classifier\n",
    "# classifier_filename = \"/Users/kulicna/Desktop/classifier/runs/2023-09-07_17-30-51/classifier.pt\"  # best Linear classifier\n",
    "\n",
    "classifier_filename = \"/Users/kulicna/Desktop/classifier/runs/2023-09-26_18-50-07/classifier.pt\"  # poor GCN + Linear classifier\n",
    "# classifier_filename = \"/Users/kulicna/Desktop/classifier/runs/2023-09-26_19-00-06/classifier.pt\"  # best Linear classifier\n",
    "classifier_filename\n"
   ]
  },
  {
   "cell_type": "markdown",
   "metadata": {},
   "source": [
    "### Perform TSNE before & after GCN:"
   ]
  },
  {
   "cell_type": "code",
   "execution_count": null,
   "metadata": {},
   "outputs": [],
   "source": [
    "dim_red = TSNEManifoldProjection(graph=G, model=classifier_filename)\n",
    "dim_red.plot_TSNE_before_and_after_GCN()\n",
    "plt.show()\n",
    "plt.close()"
   ]
  },
  {
   "cell_type": "markdown",
   "metadata": {},
   "source": [
    "### Show how well the classifier performs:"
   ]
  },
  {
   "cell_type": "code",
   "execution_count": null,
   "metadata": {},
   "outputs": [],
   "source": [
    "GLP = GraphLabelPredictor(model=classifier_filename)\n",
    "\n",
    "# Update an individual graph if needed:\n",
    "GLP.set_node_and_edge_probabilities(G=G)\n",
    "\n",
    "graph_plots = GLP.visualise_prediction_probs_on_graph(G=G)\n",
    "plt.show()\n",
    "plt.close()\n"
   ]
  },
  {
   "cell_type": "code",
   "execution_count": null,
   "metadata": {},
   "outputs": [],
   "source": [
    "# Process entire inference dataset:\n",
    "infer_target_list = [graph_data, ]\n",
    "\n",
    "predicted_results = GLP.calculate_numerical_results_on_entire_batch(infer_target_list)\n",
    "predicted_results"
   ]
  },
  {
   "cell_type": "code",
   "execution_count": null,
   "metadata": {},
   "outputs": [],
   "source": [
    "# path = \"/Users/kulicna/Desktop/classifier/\"\n",
    "# GLP.visualise_model_performance_on_entire_batch(infer_target_list, save_figures=path)\n",
    "\n",
    "GLP.visualise_model_performance_on_entire_batch(infer_target_list, show_figures=True)"
   ]
  },
  {
   "cell_type": "markdown",
   "metadata": {},
   "source": [
    "##### Done!"
   ]
  }
 ],
 "metadata": {
  "kernelspec": {
   "display_name": "grace-environment",
   "language": "python",
   "name": "python3"
  },
  "language_info": {
   "codemirror_mode": {
    "name": "ipython",
    "version": 3
   },
   "file_extension": ".py",
   "mimetype": "text/x-python",
   "name": "python",
   "nbconvert_exporter": "python",
   "pygments_lexer": "ipython3",
   "version": "3.10.11"
  },
  "orig_nbformat": 4
 },
 "nbformat": 4,
 "nbformat_minor": 2
}
