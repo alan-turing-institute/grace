{
 "cells": [
  {
   "cell_type": "markdown",
   "metadata": {},
   "source": [
    "# Run inference on pre-trained model:"
   ]
  },
  {
   "cell_type": "code",
   "execution_count": null,
   "metadata": {},
   "outputs": [],
   "source": [
    "import matplotlib.pyplot as plt\n",
    "\n",
    "import torch"
   ]
  },
  {
   "cell_type": "code",
   "execution_count": null,
   "metadata": {},
   "outputs": [],
   "source": [
    "from grace.io.image_dataset import ImageGraphDataset\n",
    "from grace.models.feature_extractor import FeatureExtractor\n",
    "from grace.evaluation.visualisation import plot_simple_graph\n",
    "from grace.evaluation.inference import GraphLabelPredictor\n"
   ]
  },
  {
   "cell_type": "markdown",
   "metadata": {},
   "source": [
    "### Read some real grace-annotated data:"
   ]
  },
  {
   "cell_type": "code",
   "execution_count": null,
   "metadata": {},
   "outputs": [],
   "source": [
    "extractor_filename = \"/Users/kulicna/Desktop/classifier/extractor/resnet152.pt\"\n",
    "pre_trained_resnet = torch.load(extractor_filename)\n",
    "feature_extractor = FeatureExtractor(model=pre_trained_resnet)\n"
   ]
  },
  {
   "cell_type": "code",
   "execution_count": null,
   "metadata": {},
   "outputs": [],
   "source": [
    "grace_path = \"/Users/kulicna/Desktop/dataset/shape_stars/train\"\n",
    "# grace_path = \"/Users/kulicna/Desktop/dataset/shape_stars/infer\"\n",
    "dataset = ImageGraphDataset(\n",
    "    image_dir=grace_path, \n",
    "    grace_dir=grace_path, \n",
    "    transform=feature_extractor,\n",
    "    keep_node_unknown_labels=False, \n",
    "    keep_edge_unknown_labels=False, \n",
    "    \n",
    ")"
   ]
  },
  {
   "cell_type": "code",
   "execution_count": null,
   "metadata": {},
   "outputs": [],
   "source": [
    "image, graph_data = dataset[1]\n",
    "# image, graph_data = dataset[0]\n",
    "\n",
    "G = graph_data[\"graph\"]\n",
    "image = image.numpy()\n",
    "annot = graph_data[\"annotation\"]\n",
    "G.number_of_nodes(), G.number_of_edges(), annot.shape, image.shape "
   ]
  },
  {
   "cell_type": "markdown",
   "metadata": {},
   "source": [
    "### Visualise the data:"
   ]
  },
  {
   "cell_type": "code",
   "execution_count": null,
   "metadata": {},
   "outputs": [],
   "source": [
    "shape = 5\n",
    "_, axes = plt.subplots(nrows=1, ncols=3, figsize=(shape*3, shape*1))\n",
    "\n",
    "plot_simple_graph(G, title=f\"Graph with {G.number_of_nodes()} nodes & {G.number_of_edges()} edges\", ax=axes[0])\n",
    "axes[0].imshow(image, cmap=\"binary_r\")\n",
    "axes[1].imshow(annot, cmap=\"binary_r\")\n",
    "axes[2].imshow(image, cmap=\"binary_r\")\n",
    "\n",
    "plt.tight_layout()\n",
    "plt.show()"
   ]
  },
  {
   "cell_type": "markdown",
   "metadata": {},
   "source": [
    "### Nominate a pre-trained GCN model:"
   ]
  },
  {
   "cell_type": "code",
   "execution_count": null,
   "metadata": {},
   "outputs": [],
   "source": [
    "# classifier_filename = \"/Users/kulicna/Desktop/classifier/runs/2023-09-07_17-07-08/classifier.pt\"\n",
    "# classifier_filename = \"/Users/kulicna/Desktop/classifier/runs/2023-09-07_17-15-47/classifier.pt\"\n",
    "classifier_filename = \"/Users/kulicna/Desktop/classifier/runs/2023-09-07_17-30-51/classifier.pt\"  # best Linear classifier\n",
    "# classifier_filename = \"/Users/kulicna/Desktop/classifier/runs/2023-09-08_15-11-58/classifier.pt\"  # bad GCN + Linear classifier\n",
    "\n",
    "pre_trained_gcn = torch.load(classifier_filename)\n",
    "pre_trained_gcn.eval()\n"
   ]
  },
  {
   "cell_type": "markdown",
   "metadata": {},
   "source": [
    "### Features are now automatically appended to the image - predict:"
   ]
  },
  {
   "cell_type": "code",
   "execution_count": null,
   "metadata": {},
   "outputs": [],
   "source": [
    "predictor = GraphLabelPredictor(pre_trained_gcn)\n",
    "predictor.set_node_and_edge_probabilities(G)\n",
    "node_acc, edge_acc = predictor.visualise_performance(G)\n",
    "print(f\"Node accuracy = {node_acc:.4f} | Edge accuracy = {edge_acc:.4f}\")"
   ]
  },
  {
   "cell_type": "markdown",
   "metadata": {},
   "source": [
    "##### Done!"
   ]
  }
 ],
 "metadata": {
  "kernelspec": {
   "display_name": "grace-environment",
   "language": "python",
   "name": "python3"
  },
  "language_info": {
   "codemirror_mode": {
    "name": "ipython",
    "version": 3
   },
   "file_extension": ".py",
   "mimetype": "text/x-python",
   "name": "python",
   "nbconvert_exporter": "python",
   "pygments_lexer": "ipython3",
   "version": "3.10.11"
  },
  "orig_nbformat": 4
 },
 "nbformat": 4,
 "nbformat_minor": 2
}
