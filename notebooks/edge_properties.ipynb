{
 "cells": [
  {
   "cell_type": "markdown",
   "metadata": {},
   "source": [
    "# Store the node features & edge properties in the graph:"
   ]
  },
  {
   "cell_type": "code",
   "execution_count": null,
   "metadata": {},
   "outputs": [],
   "source": [
    "import matplotlib.pyplot as plt\n",
    "\n",
    "from tqdm.auto import tqdm\n",
    "from grace.base import GraphAttrs\n",
    "from grace.io.image_dataset import ImageGraphDataset\n",
    "\n",
    "from grace.io.store_node_features import store_node_features_in_graph\n",
    "from grace.io.store_edge_properties import store_edge_properties_in_graph\n",
    "\n",
    "from grace.models.datasets import dataset_from_graph"
   ]
  },
  {
   "cell_type": "code",
   "execution_count": null,
   "metadata": {},
   "outputs": [],
   "source": [
    "extractor_fn = \"/Users/kulicna/Desktop/classifier/extractor/resnet152.pt\"\n",
    "data_path = \"/Users/kulicna/Desktop/dataset/playground/infer/\"\n",
    "data_path, extractor_fn"
   ]
  },
  {
   "cell_type": "code",
   "execution_count": null,
   "metadata": {},
   "outputs": [],
   "source": [
    "# store_node_features_in_graph(data_path, extractor_fn)"
   ]
  },
  {
   "cell_type": "code",
   "execution_count": null,
   "metadata": {},
   "outputs": [],
   "source": [
    "store_edge_properties_in_graph(data_path=data_path)"
   ]
  },
  {
   "cell_type": "markdown",
   "metadata": {},
   "source": [
    "# Unwrap the graph:"
   ]
  },
  {
   "cell_type": "code",
   "execution_count": null,
   "metadata": {},
   "outputs": [],
   "source": [
    "dataset = ImageGraphDataset(\n",
    "    image_dir=data_path, \n",
    "    grace_dir=data_path, \n",
    ")\n",
    "image, target = dataset[0]\n",
    "G = target[\"graph\"]\n",
    "G.number_of_nodes(), G.number_of_edges()"
   ]
  },
  {
   "cell_type": "code",
   "execution_count": null,
   "metadata": {},
   "outputs": [],
   "source": []
  },
  {
   "cell_type": "code",
   "execution_count": null,
   "metadata": {},
   "outputs": [],
   "source": [
    "for src, dst, edge in G.edges(data=True):\n",
    "    print (src, dst, edge)\n",
    "    print (edge[GraphAttrs.EDGE_PROPERTIES])\n",
    "    break\n"
   ]
  },
  {
   "cell_type": "code",
   "execution_count": null,
   "metadata": {},
   "outputs": [],
   "source": [
    "uniqueness = set([len(edge[GraphAttrs.EDGE_PROPERTIES].property_keys) for _, _, edge in G.edges(data=True)])\n",
    "uniqueness"
   ]
  },
  {
   "cell_type": "code",
   "execution_count": null,
   "metadata": {},
   "outputs": [],
   "source": [
    "for src, dst, edge in G.edges(data=True):\n",
    "    props = edge[GraphAttrs.EDGE_PROPERTIES]\n",
    "    for k, v in props.properties_dict.items():\n",
    "        print (f'{str(k).upper()} = \"{k}\"' )\n",
    "    break"
   ]
  },
  {
   "cell_type": "markdown",
   "metadata": {},
   "source": [
    "## Build the dataset:"
   ]
  },
  {
   "cell_type": "code",
   "execution_count": null,
   "metadata": {},
   "outputs": [],
   "source": [
    "data_list = dataset_from_graph(G, num_hops=1)\n",
    "data_list[0]"
   ]
  },
  {
   "cell_type": "code",
   "execution_count": null,
   "metadata": {},
   "outputs": [],
   "source": [
    "num_properties = data_list[0].edge_properties.shape[-1]\n",
    "num_features = data_list[0].x.shape[-1]\n",
    "num_properties, num_features\n"
   ]
  },
  {
   "cell_type": "code",
   "execution_count": null,
   "metadata": {},
   "outputs": [],
   "source": [
    "for i in range(num_properties):\n",
    "    props = []\n",
    "    for data in data_list:\n",
    "        props.extend(data.edge_properties[:, i].tolist())\n",
    "    plt.hist(props, label=f\"Property #{i}\")\n",
    "plt.title(f\"{num_features} edge properties histogram\")\n",
    "plt.legend()\n",
    "plt.show()\n"
   ]
  },
  {
   "cell_type": "code",
   "execution_count": null,
   "metadata": {},
   "outputs": [],
   "source": [
    "for i in tqdm(range(num_features)):\n",
    "    props = []\n",
    "    for data in data_list:\n",
    "        props.extend(data.x[:, i].tolist())\n",
    "    plt.hist(props)\n",
    "\n",
    "plt.title(f\"{num_features} node features histogram\")\n",
    "plt.show()\n"
   ]
  },
  {
   "cell_type": "markdown",
   "metadata": {},
   "source": [
    "##### Done!"
   ]
  }
 ],
 "metadata": {
  "kernelspec": {
   "display_name": "grace-environment",
   "language": "python",
   "name": "python3"
  },
  "language_info": {
   "codemirror_mode": {
    "name": "ipython",
    "version": 3
   },
   "file_extension": ".py",
   "mimetype": "text/x-python",
   "name": "python",
   "nbconvert_exporter": "python",
   "pygments_lexer": "ipython3",
   "version": "3.10.11"
  },
  "orig_nbformat": 4
 },
 "nbformat": 4,
 "nbformat_minor": 2
}
