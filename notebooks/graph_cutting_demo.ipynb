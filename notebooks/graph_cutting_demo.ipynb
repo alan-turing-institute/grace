{
 "cells": [
  {
   "cell_type": "markdown",
   "metadata": {},
   "source": [
    "# interactive graph cutting in napari"
   ]
  },
  {
   "cell_type": "code",
   "execution_count": 1,
   "metadata": {},
   "outputs": [],
   "source": [
    "from grace import graph_from_dataframe\n",
    "from grace.utils import ui"
   ]
  },
  {
   "cell_type": "code",
   "execution_count": 2,
   "metadata": {},
   "outputs": [],
   "source": [
    "import mrcfile"
   ]
  },
  {
   "cell_type": "code",
   "execution_count": 3,
   "metadata": {},
   "outputs": [],
   "source": [
    "import napari\n",
    "import numpy as np\n",
    "import pandas as pd\n",
    "\n",
    "from pathlib import Path"
   ]
  },
  {
   "cell_type": "code",
   "execution_count": 4,
   "metadata": {},
   "outputs": [],
   "source": [
    "PATH = Path(\"/Users/arl/Documents/Turing/Data/Bea/\")\n",
    "IMG_FILE = PATH / \"FoilHole_24680421_Data_24671727_24671728_20181024_2216-78563_noDW.mrc\"\n",
    "NODE_FILE = PATH / \"data.h5\""
   ]
  },
  {
   "cell_type": "code",
   "execution_count": 5,
   "metadata": {},
   "outputs": [],
   "source": [
    "nodes = pd.read_hdf(NODE_FILE)"
   ]
  },
  {
   "cell_type": "code",
   "execution_count": 6,
   "metadata": {},
   "outputs": [
    {
     "data": {
      "text/html": [
       "<div>\n",
       "<style scoped>\n",
       "    .dataframe tbody tr th:only-of-type {\n",
       "        vertical-align: middle;\n",
       "    }\n",
       "\n",
       "    .dataframe tbody tr th {\n",
       "        vertical-align: top;\n",
       "    }\n",
       "\n",
       "    .dataframe thead th {\n",
       "        text-align: right;\n",
       "    }\n",
       "</style>\n",
       "<table border=\"1\" class=\"dataframe\">\n",
       "  <thead>\n",
       "    <tr style=\"text-align: right;\">\n",
       "      <th></th>\n",
       "      <th>image_id</th>\n",
       "      <th>x</th>\n",
       "      <th>y</th>\n",
       "      <th>features</th>\n",
       "    </tr>\n",
       "  </thead>\n",
       "  <tbody>\n",
       "    <tr>\n",
       "      <th>391</th>\n",
       "      <td>FoilHole_24680421_Data_24671727_24671728_20181...</td>\n",
       "      <td>1193.372383</td>\n",
       "      <td>3504.852545</td>\n",
       "      <td>[[[tensor([0.0920])], [tensor([0.0466])], [ten...</td>\n",
       "    </tr>\n",
       "    <tr>\n",
       "      <th>392</th>\n",
       "      <td>FoilHole_24680421_Data_24671727_24671728_20181...</td>\n",
       "      <td>3338.719848</td>\n",
       "      <td>3498.387134</td>\n",
       "      <td>[[[tensor([0.1973])], [tensor([0.2964])], [ten...</td>\n",
       "    </tr>\n",
       "    <tr>\n",
       "      <th>393</th>\n",
       "      <td>FoilHole_24680421_Data_24671727_24671728_20181...</td>\n",
       "      <td>2417.742788</td>\n",
       "      <td>3454.126903</td>\n",
       "      <td>[[[tensor([0.1534])], [tensor([0.0623])], [ten...</td>\n",
       "    </tr>\n",
       "    <tr>\n",
       "      <th>394</th>\n",
       "      <td>FoilHole_24680421_Data_24671727_24671728_20181...</td>\n",
       "      <td>2686.823684</td>\n",
       "      <td>3452.796400</td>\n",
       "      <td>[[[tensor([0.2041])], [tensor([0.0594])], [ten...</td>\n",
       "    </tr>\n",
       "    <tr>\n",
       "      <th>395</th>\n",
       "      <td>FoilHole_24680421_Data_24671727_24671728_20181...</td>\n",
       "      <td>3054.584313</td>\n",
       "      <td>3451.859043</td>\n",
       "      <td>[[[tensor([0.3420])], [tensor([0.0358])], [ten...</td>\n",
       "    </tr>\n",
       "  </tbody>\n",
       "</table>\n",
       "</div>"
      ],
      "text/plain": [
       "                                              image_id            x  \\\n",
       "391  FoilHole_24680421_Data_24671727_24671728_20181...  1193.372383   \n",
       "392  FoilHole_24680421_Data_24671727_24671728_20181...  3338.719848   \n",
       "393  FoilHole_24680421_Data_24671727_24671728_20181...  2417.742788   \n",
       "394  FoilHole_24680421_Data_24671727_24671728_20181...  2686.823684   \n",
       "395  FoilHole_24680421_Data_24671727_24671728_20181...  3054.584313   \n",
       "\n",
       "               y                                           features  \n",
       "391  3504.852545  [[[tensor([0.0920])], [tensor([0.0466])], [ten...  \n",
       "392  3498.387134  [[[tensor([0.1973])], [tensor([0.2964])], [ten...  \n",
       "393  3454.126903  [[[tensor([0.1534])], [tensor([0.0623])], [ten...  \n",
       "394  3452.796400  [[[tensor([0.2041])], [tensor([0.0594])], [ten...  \n",
       "395  3451.859043  [[[tensor([0.3420])], [tensor([0.0358])], [ten...  "
      ]
     },
     "execution_count": 6,
     "metadata": {},
     "output_type": "execute_result"
    }
   ],
   "source": [
    "nodes.head()"
   ]
  },
  {
   "cell_type": "code",
   "execution_count": 7,
   "metadata": {},
   "outputs": [],
   "source": [
    "with mrcfile.open(IMG_FILE, \"r\") as mrc:\n",
    "    img = mrc.data"
   ]
  },
  {
   "cell_type": "code",
   "execution_count": 8,
   "metadata": {},
   "outputs": [
    {
     "data": {
      "text/plain": [
       "(3710, 3838)"
      ]
     },
     "execution_count": 8,
     "metadata": {},
     "output_type": "execute_result"
    }
   ],
   "source": [
    "img.shape"
   ]
  },
  {
   "cell_type": "code",
   "execution_count": 10,
   "metadata": {},
   "outputs": [],
   "source": [
    "G = graph_from_dataframe(nodes)"
   ]
  },
  {
   "cell_type": "code",
   "execution_count": 11,
   "metadata": {},
   "outputs": [],
   "source": [
    "points, edges = ui.graph_to_napari_layers(G)"
   ]
  },
  {
   "cell_type": "code",
   "execution_count": 12,
   "metadata": {},
   "outputs": [
    {
     "name": "stderr",
     "output_type": "stream",
     "text": [
      "/Users/arl/miniforge3/envs/pytorch/lib/python3.9/site-packages/napari/layers/base/base.py:1632: RuntimeWarning: invalid value encountered in cast\n",
      "  corners[:, displayed_axes] = data_bbox_clipped\n",
      "/Users/arl/miniforge3/envs/pytorch/lib/python3.9/site-packages/napari/layers/base/base.py:1632: RuntimeWarning: invalid value encountered in cast\n",
      "  corners[:, displayed_axes] = data_bbox_clipped\n",
      "/Users/arl/miniforge3/envs/pytorch/lib/python3.9/site-packages/napari/layers/base/base.py:1632: RuntimeWarning: invalid value encountered in cast\n",
      "  corners[:, displayed_axes] = data_bbox_clipped\n",
      "/Users/arl/miniforge3/envs/pytorch/lib/python3.9/site-packages/napari/layers/base/base.py:1632: RuntimeWarning: invalid value encountered in cast\n",
      "  corners[:, displayed_axes] = data_bbox_clipped\n",
      "/Users/arl/miniforge3/envs/pytorch/lib/python3.9/site-packages/napari/layers/base/base.py:1632: RuntimeWarning: invalid value encountered in cast\n",
      "  corners[:, displayed_axes] = data_bbox_clipped\n",
      "/Users/arl/miniforge3/envs/pytorch/lib/python3.9/site-packages/napari/layers/base/base.py:1632: RuntimeWarning: invalid value encountered in cast\n",
      "  corners[:, displayed_axes] = data_bbox_clipped\n",
      "/Users/arl/miniforge3/envs/pytorch/lib/python3.9/site-packages/napari/layers/base/base.py:1632: RuntimeWarning: invalid value encountered in cast\n",
      "  corners[:, displayed_axes] = data_bbox_clipped\n",
      "/Users/arl/miniforge3/envs/pytorch/lib/python3.9/site-packages/napari/layers/base/base.py:1632: RuntimeWarning: invalid value encountered in cast\n",
      "  corners[:, displayed_axes] = data_bbox_clipped\n",
      "/Users/arl/miniforge3/envs/pytorch/lib/python3.9/site-packages/napari/layers/base/base.py:1632: RuntimeWarning: invalid value encountered in cast\n",
      "  corners[:, displayed_axes] = data_bbox_clipped\n",
      "/Users/arl/miniforge3/envs/pytorch/lib/python3.9/site-packages/napari/layers/base/base.py:1632: RuntimeWarning: invalid value encountered in cast\n",
      "  corners[:, displayed_axes] = data_bbox_clipped\n",
      "/Users/arl/miniforge3/envs/pytorch/lib/python3.9/site-packages/napari/layers/base/base.py:1632: RuntimeWarning: invalid value encountered in cast\n",
      "  corners[:, displayed_axes] = data_bbox_clipped\n",
      "/Users/arl/miniforge3/envs/pytorch/lib/python3.9/site-packages/napari/layers/base/base.py:1632: RuntimeWarning: invalid value encountered in cast\n",
      "  corners[:, displayed_axes] = data_bbox_clipped\n",
      "/Users/arl/miniforge3/envs/pytorch/lib/python3.9/site-packages/napari/layers/base/base.py:1632: RuntimeWarning: invalid value encountered in cast\n",
      "  corners[:, displayed_axes] = data_bbox_clipped\n",
      "/Users/arl/miniforge3/envs/pytorch/lib/python3.9/site-packages/napari/layers/base/base.py:1632: RuntimeWarning: invalid value encountered in cast\n",
      "  corners[:, displayed_axes] = data_bbox_clipped\n",
      "/Users/arl/miniforge3/envs/pytorch/lib/python3.9/site-packages/napari/layers/base/base.py:1632: RuntimeWarning: invalid value encountered in cast\n",
      "  corners[:, displayed_axes] = data_bbox_clipped\n",
      "/Users/arl/miniforge3/envs/pytorch/lib/python3.9/site-packages/napari/layers/base/base.py:1632: RuntimeWarning: invalid value encountered in cast\n",
      "  corners[:, displayed_axes] = data_bbox_clipped\n",
      "/Users/arl/miniforge3/envs/pytorch/lib/python3.9/site-packages/napari/layers/base/base.py:1632: RuntimeWarning: invalid value encountered in cast\n",
      "  corners[:, displayed_axes] = data_bbox_clipped\n",
      "/Users/arl/miniforge3/envs/pytorch/lib/python3.9/site-packages/napari/layers/base/base.py:1632: RuntimeWarning: invalid value encountered in cast\n",
      "  corners[:, displayed_axes] = data_bbox_clipped\n",
      "/Users/arl/miniforge3/envs/pytorch/lib/python3.9/site-packages/napari/layers/base/base.py:1632: RuntimeWarning: invalid value encountered in cast\n",
      "  corners[:, displayed_axes] = data_bbox_clipped\n",
      "/Users/arl/miniforge3/envs/pytorch/lib/python3.9/site-packages/napari/layers/base/base.py:1632: RuntimeWarning: invalid value encountered in cast\n",
      "  corners[:, displayed_axes] = data_bbox_clipped\n",
      "/Users/arl/miniforge3/envs/pytorch/lib/python3.9/site-packages/napari/layers/base/base.py:1632: RuntimeWarning: invalid value encountered in cast\n",
      "  corners[:, displayed_axes] = data_bbox_clipped\n",
      "/Users/arl/miniforge3/envs/pytorch/lib/python3.9/site-packages/napari/layers/base/base.py:1632: RuntimeWarning: invalid value encountered in cast\n",
      "  corners[:, displayed_axes] = data_bbox_clipped\n",
      "/Users/arl/miniforge3/envs/pytorch/lib/python3.9/site-packages/napari/layers/base/base.py:1632: RuntimeWarning: invalid value encountered in cast\n",
      "  corners[:, displayed_axes] = data_bbox_clipped\n",
      "/Users/arl/miniforge3/envs/pytorch/lib/python3.9/site-packages/napari/layers/base/base.py:1632: RuntimeWarning: invalid value encountered in cast\n",
      "  corners[:, displayed_axes] = data_bbox_clipped\n",
      "/Users/arl/miniforge3/envs/pytorch/lib/python3.9/site-packages/napari/layers/base/base.py:1632: RuntimeWarning: invalid value encountered in cast\n",
      "  corners[:, displayed_axes] = data_bbox_clipped\n",
      "/Users/arl/miniforge3/envs/pytorch/lib/python3.9/site-packages/napari/layers/base/base.py:1632: RuntimeWarning: invalid value encountered in cast\n",
      "  corners[:, displayed_axes] = data_bbox_clipped\n",
      "/Users/arl/miniforge3/envs/pytorch/lib/python3.9/site-packages/napari/layers/base/base.py:1632: RuntimeWarning: invalid value encountered in cast\n",
      "  corners[:, displayed_axes] = data_bbox_clipped\n",
      "/Users/arl/miniforge3/envs/pytorch/lib/python3.9/site-packages/napari/layers/base/base.py:1632: RuntimeWarning: invalid value encountered in cast\n",
      "  corners[:, displayed_axes] = data_bbox_clipped\n",
      "/Users/arl/miniforge3/envs/pytorch/lib/python3.9/site-packages/napari/layers/base/base.py:1632: RuntimeWarning: invalid value encountered in cast\n",
      "  corners[:, displayed_axes] = data_bbox_clipped\n",
      "/Users/arl/miniforge3/envs/pytorch/lib/python3.9/site-packages/napari/layers/base/base.py:1632: RuntimeWarning: invalid value encountered in cast\n",
      "  corners[:, displayed_axes] = data_bbox_clipped\n",
      "/Users/arl/miniforge3/envs/pytorch/lib/python3.9/site-packages/napari/layers/base/base.py:1632: RuntimeWarning: invalid value encountered in cast\n",
      "  corners[:, displayed_axes] = data_bbox_clipped\n",
      "/Users/arl/miniforge3/envs/pytorch/lib/python3.9/site-packages/napari/layers/base/base.py:1632: RuntimeWarning: invalid value encountered in cast\n",
      "  corners[:, displayed_axes] = data_bbox_clipped\n",
      "/Users/arl/miniforge3/envs/pytorch/lib/python3.9/site-packages/napari/layers/base/base.py:1632: RuntimeWarning: invalid value encountered in cast\n",
      "  corners[:, displayed_axes] = data_bbox_clipped\n",
      "/Users/arl/miniforge3/envs/pytorch/lib/python3.9/site-packages/napari/layers/base/base.py:1632: RuntimeWarning: invalid value encountered in cast\n",
      "  corners[:, displayed_axes] = data_bbox_clipped\n",
      "/Users/arl/miniforge3/envs/pytorch/lib/python3.9/site-packages/napari/layers/base/base.py:1632: RuntimeWarning: invalid value encountered in cast\n",
      "  corners[:, displayed_axes] = data_bbox_clipped\n",
      "/Users/arl/miniforge3/envs/pytorch/lib/python3.9/site-packages/napari/layers/base/base.py:1632: RuntimeWarning: invalid value encountered in cast\n",
      "  corners[:, displayed_axes] = data_bbox_clipped\n",
      "/Users/arl/miniforge3/envs/pytorch/lib/python3.9/site-packages/napari/layers/base/base.py:1632: RuntimeWarning: invalid value encountered in cast\n",
      "  corners[:, displayed_axes] = data_bbox_clipped\n",
      "/Users/arl/miniforge3/envs/pytorch/lib/python3.9/site-packages/napari/layers/base/base.py:1632: RuntimeWarning: invalid value encountered in cast\n",
      "  corners[:, displayed_axes] = data_bbox_clipped\n",
      "/Users/arl/miniforge3/envs/pytorch/lib/python3.9/site-packages/napari/layers/base/base.py:1632: RuntimeWarning: invalid value encountered in cast\n",
      "  corners[:, displayed_axes] = data_bbox_clipped\n",
      "/Users/arl/miniforge3/envs/pytorch/lib/python3.9/site-packages/napari/layers/base/base.py:1632: RuntimeWarning: invalid value encountered in cast\n",
      "  corners[:, displayed_axes] = data_bbox_clipped\n",
      "/Users/arl/miniforge3/envs/pytorch/lib/python3.9/site-packages/napari/layers/base/base.py:1632: RuntimeWarning: invalid value encountered in cast\n",
      "  corners[:, displayed_axes] = data_bbox_clipped\n",
      "/Users/arl/miniforge3/envs/pytorch/lib/python3.9/site-packages/napari/layers/base/base.py:1632: RuntimeWarning: invalid value encountered in cast\n",
      "  corners[:, displayed_axes] = data_bbox_clipped\n",
      "/Users/arl/miniforge3/envs/pytorch/lib/python3.9/site-packages/napari/layers/base/base.py:1632: RuntimeWarning: invalid value encountered in cast\n",
      "  corners[:, displayed_axes] = data_bbox_clipped\n"
     ]
    },
    {
     "name": "stderr",
     "output_type": "stream",
     "text": [
      "/Users/arl/miniforge3/envs/pytorch/lib/python3.9/site-packages/napari/layers/base/base.py:1632: RuntimeWarning: invalid value encountered in cast\n",
      "  corners[:, displayed_axes] = data_bbox_clipped\n",
      "/Users/arl/miniforge3/envs/pytorch/lib/python3.9/site-packages/napari/layers/base/base.py:1632: RuntimeWarning: invalid value encountered in cast\n",
      "  corners[:, displayed_axes] = data_bbox_clipped\n",
      "/Users/arl/miniforge3/envs/pytorch/lib/python3.9/site-packages/napari/layers/base/base.py:1632: RuntimeWarning: invalid value encountered in cast\n",
      "  corners[:, displayed_axes] = data_bbox_clipped\n",
      "/Users/arl/miniforge3/envs/pytorch/lib/python3.9/site-packages/napari/layers/base/base.py:1632: RuntimeWarning: invalid value encountered in cast\n",
      "  corners[:, displayed_axes] = data_bbox_clipped\n",
      "/Users/arl/miniforge3/envs/pytorch/lib/python3.9/site-packages/napari/layers/base/base.py:1632: RuntimeWarning: invalid value encountered in cast\n",
      "  corners[:, displayed_axes] = data_bbox_clipped\n",
      "/Users/arl/miniforge3/envs/pytorch/lib/python3.9/site-packages/napari/layers/base/base.py:1632: RuntimeWarning: invalid value encountered in cast\n",
      "  corners[:, displayed_axes] = data_bbox_clipped\n",
      "/Users/arl/miniforge3/envs/pytorch/lib/python3.9/site-packages/napari/layers/base/base.py:1632: RuntimeWarning: invalid value encountered in cast\n",
      "  corners[:, displayed_axes] = data_bbox_clipped\n",
      "/Users/arl/miniforge3/envs/pytorch/lib/python3.9/site-packages/napari/layers/base/base.py:1632: RuntimeWarning: invalid value encountered in cast\n",
      "  corners[:, displayed_axes] = data_bbox_clipped\n",
      "/Users/arl/miniforge3/envs/pytorch/lib/python3.9/site-packages/napari/layers/base/base.py:1632: RuntimeWarning: invalid value encountered in cast\n",
      "  corners[:, displayed_axes] = data_bbox_clipped\n",
      "/Users/arl/miniforge3/envs/pytorch/lib/python3.9/site-packages/napari/layers/base/base.py:1632: RuntimeWarning: invalid value encountered in cast\n",
      "  corners[:, displayed_axes] = data_bbox_clipped\n",
      "/Users/arl/miniforge3/envs/pytorch/lib/python3.9/site-packages/napari/layers/base/base.py:1632: RuntimeWarning: invalid value encountered in cast\n",
      "  corners[:, displayed_axes] = data_bbox_clipped\n",
      "/Users/arl/miniforge3/envs/pytorch/lib/python3.9/site-packages/napari/layers/base/base.py:1632: RuntimeWarning: invalid value encountered in cast\n",
      "  corners[:, displayed_axes] = data_bbox_clipped\n",
      "/Users/arl/miniforge3/envs/pytorch/lib/python3.9/site-packages/napari/layers/base/base.py:1632: RuntimeWarning: invalid value encountered in cast\n",
      "  corners[:, displayed_axes] = data_bbox_clipped\n",
      "/Users/arl/miniforge3/envs/pytorch/lib/python3.9/site-packages/napari/layers/base/base.py:1632: RuntimeWarning: invalid value encountered in cast\n",
      "  corners[:, displayed_axes] = data_bbox_clipped\n",
      "/Users/arl/miniforge3/envs/pytorch/lib/python3.9/site-packages/napari/layers/base/base.py:1632: RuntimeWarning: invalid value encountered in cast\n",
      "  corners[:, displayed_axes] = data_bbox_clipped\n"
     ]
    }
   ],
   "source": [
    "viewer = napari.Viewer()\n",
    "viewer.add_image(img)\n",
    "viewer.add_shapes(edges, shape_type=\"line\", edge_width=5, edge_color=\"blue\")\n",
    "gl = viewer.add_shapes(\n",
    "    np.empty((0, 2, 2)), \n",
    "    shape_type=\"line\", \n",
    "    edge_color=\"green\", \n",
    "    edge_width=2, \n",
    "    name=\"good\"\n",
    ")\n",
    "bl = viewer.add_shapes(\n",
    "    np.empty((0, 2, 2)), \n",
    "    shape_type=\"line\", \n",
    "    edge_color=\"red\", \n",
    "    edge_width=2, \n",
    "    name=\"bad\"\n",
    ")\n",
    "viewer.add_points(points, size=32)\n",
    "viewer.add_labels(np.zeros(img.shape, dtype=np.int32), name=\"mask\")\n",
    "viewer.layers[\"mask\"].brush_size = 50\n",
    "\n",
    "# press `k` after drawing in the `mask` layer to cut the graph\n",
    "@viewer.bind_key(\"k\")\n",
    "def cut(e):\n",
    "    idx, good, bad = ui.cut_graph_using_mask(G, viewer.layers[\"mask\"].data)\n",
    "\n",
    "    good_arr = np.array(\n",
    "        [points[(i, j), :] for i, j in good]\n",
    "    )\n",
    "\n",
    "    bad_arr = np.array(\n",
    "        [points[(i, j), :] for i, j in bad]\n",
    "    )\n",
    "\n",
    "    gl.data = [] \n",
    "    bl.data = []\n",
    "    gl.add_lines(good_arr)\n",
    "    bl.add_lines(bad_arr)\n"
   ]
  },
  {
   "cell_type": "code",
   "execution_count": null,
   "metadata": {},
   "outputs": [],
   "source": []
  },
  {
   "cell_type": "code",
   "execution_count": null,
   "metadata": {},
   "outputs": [],
   "source": []
  }
 ],
 "metadata": {
  "kernelspec": {
   "display_name": "Python [conda env:pytorch]",
   "language": "python",
   "name": "conda-env-pytorch-py"
  },
  "language_info": {
   "codemirror_mode": {
    "name": "ipython",
    "version": 3
   },
   "file_extension": ".py",
   "mimetype": "text/x-python",
   "name": "python",
   "nbconvert_exporter": "python",
   "pygments_lexer": "ipython3",
   "version": "3.9.15"
  },
  "vscode": {
   "interpreter": {
    "hash": "4837db0ae102e7e97a192b176e43e68e2af55ac0fc2fba8f0d17ca28b0f9b18e"
   }
  }
 },
 "nbformat": 4,
 "nbformat_minor": 2
}
