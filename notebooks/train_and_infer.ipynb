{
 "cells": [
  {
   "cell_type": "code",
   "execution_count": 1,
   "metadata": {},
   "outputs": [],
   "source": [
    "from grace.simulate import random_graph\n",
    "from grace.models.classifier import GCN\n",
    "from grace.models.train import train_model\n",
    "from grace.models.datasets import dataset_from_graph\n",
    "\n",
    "import networkx as nx\n",
    "import numpy as np\n",
    "\n",
    "import matplotlib.pyplot as plt"
   ]
  },
  {
   "cell_type": "code",
   "execution_count": null,
   "metadata": {},
   "outputs": [],
   "source": [
    "G = random_graph()"
   ]
  },
  {
   "cell_type": "code",
   "execution_count": null,
   "metadata": {},
   "outputs": [],
   "source": [
    "pos = {idx: (node[\"x\"], node[\"y\"]) for idx, node in G.nodes(data=True)}"
   ]
  },
  {
   "cell_type": "code",
   "execution_count": null,
   "metadata": {},
   "outputs": [],
   "source": [
    "nx.draw_networkx(G, pos=pos, node_size=2, with_labels=True)"
   ]
  },
  {
   "cell_type": "markdown",
   "metadata": {},
   "source": []
  },
  {
   "cell_type": "code",
   "execution_count": null,
   "metadata": {},
   "outputs": [],
   "source": [
    "dataset = []\n",
    "\n",
    "RNG = np.random.default_rng()\n",
    "\n",
    "for i in range(100):\n",
    "    G = random_graph(\n",
    "        n_lines=RNG.integers(0, 10),\n",
    "        n_chaff=RNG.integers(50, 1000),\n",
    "        )\n",
    "    d = dataset_from_graph(G)\n",
    "\n",
    "    dataset += d"
   ]
  },
  {
   "cell_type": "code",
   "execution_count": null,
   "metadata": {},
   "outputs": [],
   "source": [
    "model = GCN(input_channels=3, hidden_channels=64)\n",
    "\n",
    "train_model(model, dataset, epochs=100)"
   ]
  },
  {
   "cell_type": "code",
   "execution_count": 2,
   "metadata": {},
   "outputs": [
    {
     "ename": "KeyError",
     "evalue": "<GraphAttrs.NODE_GROUND_TRUTH: 'node_ground_truth'>",
     "output_type": "error",
     "traceback": [
      "\u001b[0;31m---------------------------------------------------------------------------\u001b[0m",
      "\u001b[0;31mKeyError\u001b[0m                                  Traceback (most recent call last)",
      "Cell \u001b[0;32mIn[2], line 2\u001b[0m\n\u001b[1;32m      1\u001b[0m test_G \u001b[39m=\u001b[39m random_graph(n_lines\u001b[39m=\u001b[39m\u001b[39m3\u001b[39m, n_chaff\u001b[39m=\u001b[39m\u001b[39m300\u001b[39m)\n\u001b[0;32m----> 2\u001b[0m test_dataset \u001b[39m=\u001b[39m dataset_from_graph(test_G)\n",
      "File \u001b[0;32m~/grace/grace/models/datasets.py:66\u001b[0m, in \u001b[0;36mdataset_from_graph\u001b[0;34m(graph, n_hop)\u001b[0m\n\u001b[1;32m     58\u001b[0m     edges \u001b[39m=\u001b[39m \u001b[39mlist\u001b[39m(item\u001b[39m.\u001b[39medges)\n\u001b[1;32m     59\u001b[0m     edge_index \u001b[39m=\u001b[39m torch\u001b[39m.\u001b[39mtensor(edges, dtype\u001b[39m=\u001b[39mtorch\u001b[39m.\u001b[39mlong)\u001b[39m.\u001b[39mt()\u001b[39m.\u001b[39mcontiguous()\n\u001b[1;32m     61\u001b[0m     data \u001b[39m=\u001b[39m torch_geometric\u001b[39m.\u001b[39mdata\u001b[39m.\u001b[39mData(\n\u001b[1;32m     62\u001b[0m         x\u001b[39m=\u001b[39mtorch\u001b[39m.\u001b[39mTensor(x),\n\u001b[1;32m     63\u001b[0m         edge_index\u001b[39m=\u001b[39medge_index,\n\u001b[1;32m     64\u001b[0m         edge_attr\u001b[39m=\u001b[39mtorch\u001b[39m.\u001b[39mTensor(edge_attr),\n\u001b[1;32m     65\u001b[0m         pos\u001b[39m=\u001b[39mtorch\u001b[39m.\u001b[39mTensor(pos),\n\u001b[0;32m---> 66\u001b[0m         y\u001b[39m=\u001b[39mtorch\u001b[39m.\u001b[39mas_tensor([values[GraphAttrs\u001b[39m.\u001b[39;49mNODE_GROUND_TRUTH]]),\n\u001b[1;32m     67\u001b[0m     )\n\u001b[1;32m     69\u001b[0m     dataset\u001b[39m.\u001b[39mappend(data)\n\u001b[1;32m     71\u001b[0m \u001b[39mreturn\u001b[39;00m dataset\n",
      "\u001b[0;31mKeyError\u001b[0m: <GraphAttrs.NODE_GROUND_TRUTH: 'node_ground_truth'>"
     ]
    }
   ],
   "source": [
    "test_G = random_graph(n_lines=3, n_chaff=300)\n",
    "test_dataset = dataset_from_graph(test_G)"
   ]
  },
  {
   "cell_type": "code",
   "execution_count": null,
   "metadata": {},
   "outputs": [],
   "source": [
    "from scipy.special import softmax"
   ]
  },
  {
   "cell_type": "code",
   "execution_count": null,
   "metadata": {},
   "outputs": [],
   "source": [
    "model.eval()\n",
    "\n",
    "predictions = []\n",
    "\n",
    "for data in test_dataset:  # Iterate in batches over the training/test dataset.\n",
    "    out = model(data.x, data.edge_index)\n",
    "    pred = out.argmax(dim=1)\n",
    "    probs = softmax(out.detach().numpy())\n",
    "\n",
    "    predictions.append((int(pred.numpy()), probs))\n"
   ]
  },
  {
   "cell_type": "code",
   "execution_count": null,
   "metadata": {},
   "outputs": [],
   "source": [
    "pos = {idx: (node[\"x\"], node[\"y\"]) for idx, node in test_G.nodes(data=True)}"
   ]
  },
  {
   "cell_type": "code",
   "execution_count": null,
   "metadata": {},
   "outputs": [],
   "source": [
    "fig, ax = plt.subplots(figsize=(16, 16))\n",
    "nx.draw_networkx(test_G, ax=ax, pos=pos, node_size=2, with_labels=False)\n",
    "\n",
    "x = [p[0] for _, p in pos.items()]\n",
    "y = [p[1] for _, p in pos.items()]\n",
    "\n",
    "c = [pc[:, 1] for p, pc in predictions] \n",
    "\n",
    "scx = ax.scatter(x, y, s=64, c=c, cmap=plt.cm.PiYG)\n",
    "fig.colorbar(scx)"
   ]
  },
  {
   "cell_type": "code",
   "execution_count": null,
   "metadata": {},
   "outputs": [],
   "source": [
    "len(predictions)"
   ]
  },
  {
   "cell_type": "code",
   "execution_count": null,
   "metadata": {},
   "outputs": [],
   "source": [
    "torch.save(model, \"./gcn.pt\")"
   ]
  },
  {
   "cell_type": "code",
   "execution_count": null,
   "metadata": {},
   "outputs": [],
   "source": [
    "import torch"
   ]
  },
  {
   "cell_type": "code",
   "execution_count": null,
   "metadata": {},
   "outputs": [],
   "source": []
  }
 ],
 "metadata": {
  "kernelspec": {
   "display_name": "new_env",
   "language": "python",
   "name": "python3"
  },
  "language_info": {
   "codemirror_mode": {
    "name": "ipython",
    "version": 3
   },
   "file_extension": ".py",
   "mimetype": "text/x-python",
   "name": "python",
   "nbconvert_exporter": "python",
   "pygments_lexer": "ipython3",
   "version": "3.10.8"
  },
  "orig_nbformat": 4
 },
 "nbformat": 4,
 "nbformat_minor": 2
}
